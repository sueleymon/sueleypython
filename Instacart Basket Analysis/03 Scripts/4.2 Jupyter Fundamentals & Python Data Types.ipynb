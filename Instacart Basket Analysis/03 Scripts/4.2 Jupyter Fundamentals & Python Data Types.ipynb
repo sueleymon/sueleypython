{
 "cells": [
  {
   "cell_type": "markdown",
   "id": "221b4309",
   "metadata": {},
   "source": [
    "# 4.2 Jupyter Fundamentals & Python Data Types"
   ]
  },
  {
   "cell_type": "markdown",
   "id": "32b59c8c",
   "metadata": {},
   "source": [
    "## Contents\n",
    "\n",
    "### 01.Importing libraries\n",
    "### 02. Data types"
   ]
  },
  {
   "cell_type": "markdown",
   "id": "def662dd",
   "metadata": {},
   "source": [
    "## 01. Importing libraries"
   ]
  },
  {
   "cell_type": "code",
   "execution_count": 1,
   "id": "09e994ce",
   "metadata": {},
   "outputs": [],
   "source": [
    "# Import libraries\n",
    "import pandas as pd\n",
    "import numpy as np\n",
    "import os"
   ]
  },
  {
   "cell_type": "markdown",
   "id": "8b903763",
   "metadata": {},
   "source": [
    "## 02. Data types"
   ]
  },
  {
   "cell_type": "code",
   "execution_count": 24,
   "id": "be4eb78f",
   "metadata": {},
   "outputs": [],
   "source": [
    "x = 50"
   ]
  },
  {
   "cell_type": "code",
   "execution_count": 25,
   "id": "6db85891",
   "metadata": {},
   "outputs": [],
   "source": [
    "y = 70"
   ]
  },
  {
   "cell_type": "code",
   "execution_count": 26,
   "id": "de841eaa",
   "metadata": {},
   "outputs": [],
   "source": [
    "z = 20"
   ]
  },
  {
   "cell_type": "code",
   "execution_count": 27,
   "id": "602cfa5a",
   "metadata": {},
   "outputs": [
    {
     "data": {
      "text/plain": [
       "100"
      ]
     },
     "execution_count": 27,
     "metadata": {},
     "output_type": "execute_result"
    }
   ],
   "source": [
    "x + x"
   ]
  },
  {
   "cell_type": "code",
   "execution_count": 28,
   "id": "d0c57310",
   "metadata": {},
   "outputs": [
    {
     "data": {
      "text/plain": [
       "100"
      ]
     },
     "execution_count": 28,
     "metadata": {},
     "output_type": "execute_result"
    }
   ],
   "source": [
    "y + x - z"
   ]
  },
  {
   "cell_type": "code",
   "execution_count": 29,
   "id": "5e824ca2",
   "metadata": {},
   "outputs": [
    {
     "data": {
      "text/plain": [
       "100"
      ]
     },
     "execution_count": 29,
     "metadata": {},
     "output_type": "execute_result"
    }
   ],
   "source": [
    "y + y - z - z"
   ]
  },
  {
   "cell_type": "code",
   "execution_count": 30,
   "id": "8b1f7fdf",
   "metadata": {},
   "outputs": [],
   "source": [
    "v = 6.33"
   ]
  },
  {
   "cell_type": "code",
   "execution_count": 31,
   "id": "947d011e",
   "metadata": {},
   "outputs": [],
   "source": [
    "w = 7.22"
   ]
  },
  {
   "cell_type": "code",
   "execution_count": 32,
   "id": "a05c9572",
   "metadata": {},
   "outputs": [
    {
     "data": {
      "text/plain": [
       "0.8767313019390582"
      ]
     },
     "execution_count": 32,
     "metadata": {},
     "output_type": "execute_result"
    }
   ],
   "source": [
    "v / w"
   ]
  },
  {
   "cell_type": "code",
   "execution_count": 33,
   "id": "5f679f7b",
   "metadata": {},
   "outputs": [],
   "source": [
    "t = 'Hel'"
   ]
  },
  {
   "cell_type": "code",
   "execution_count": 34,
   "id": "a7893161",
   "metadata": {},
   "outputs": [],
   "source": [
    "u = 'lo!'"
   ]
  },
  {
   "cell_type": "code",
   "execution_count": 35,
   "id": "e3cfb075",
   "metadata": {},
   "outputs": [
    {
     "data": {
      "text/plain": [
       "'Hello!'"
      ]
     },
     "execution_count": 35,
     "metadata": {},
     "output_type": "execute_result"
    }
   ],
   "source": [
    "t + u"
   ]
  },
  {
   "cell_type": "code",
   "execution_count": 36,
   "id": "aed8eacb",
   "metadata": {},
   "outputs": [],
   "source": [
    "a = 'Why '"
   ]
  },
  {
   "cell_type": "code",
   "execution_count": 37,
   "id": "fd6d26b9",
   "metadata": {},
   "outputs": [],
   "source": [
    "b = 'are '"
   ]
  },
  {
   "cell_type": "code",
   "execution_count": 38,
   "id": "628fe195",
   "metadata": {},
   "outputs": [],
   "source": [
    "c = 'dogs '"
   ]
  },
  {
   "cell_type": "code",
   "execution_count": 39,
   "id": "d39608db",
   "metadata": {},
   "outputs": [],
   "source": [
    "d = 'cute?'"
   ]
  },
  {
   "cell_type": "code",
   "execution_count": 40,
   "id": "41adea7e",
   "metadata": {},
   "outputs": [
    {
     "data": {
      "text/plain": [
       "'Why are dogs cute?'"
      ]
     },
     "execution_count": 40,
     "metadata": {},
     "output_type": "execute_result"
    }
   ],
   "source": [
    "a + b + c + d"
   ]
  },
  {
   "cell_type": "code",
   "execution_count": 42,
   "id": "6729886c",
   "metadata": {},
   "outputs": [],
   "source": [
    "e = 'Why '"
   ]
  },
  {
   "cell_type": "code",
   "execution_count": 44,
   "id": "e35e2c82",
   "metadata": {},
   "outputs": [],
   "source": [
    "f = 'do '"
   ]
  },
  {
   "cell_type": "code",
   "execution_count": 45,
   "id": "5ebc73cf",
   "metadata": {},
   "outputs": [],
   "source": [
    "g = 'my hands '"
   ]
  },
  {
   "cell_type": "code",
   "execution_count": 46,
   "id": "672fb8db",
   "metadata": {},
   "outputs": [],
   "source": [
    "h = 'have so much power in them?'"
   ]
  },
  {
   "cell_type": "code",
   "execution_count": 47,
   "id": "bfcea3cb",
   "metadata": {},
   "outputs": [
    {
     "data": {
      "text/plain": [
       "'Why do my hands have so much power in them?'"
      ]
     },
     "execution_count": 47,
     "metadata": {},
     "output_type": "execute_result"
    }
   ],
   "source": [
    "e + f + g +h"
   ]
  },
  {
   "cell_type": "code",
   "execution_count": 48,
   "id": "dc6f6963",
   "metadata": {},
   "outputs": [
    {
     "data": {
      "text/plain": [
       "'dogs dogs dogs dogs dogs dogs dogs dogs dogs dogs dogs dogs dogs dogs dogs dogs dogs dogs dogs dogs dogs dogs dogs dogs dogs dogs dogs dogs dogs dogs dogs dogs dogs dogs dogs dogs dogs dogs dogs dogs dogs dogs dogs dogs dogs dogs dogs dogs dogs dogs dogs dogs dogs dogs dogs dogs dogs dogs dogs dogs dogs dogs dogs dogs dogs dogs dogs dogs dogs dogs dogs dogs dogs dogs dogs dogs dogs dogs dogs dogs dogs dogs dogs dogs dogs dogs dogs dogs dogs dogs dogs dogs dogs dogs dogs dogs dogs dogs dogs dogs '"
      ]
     },
     "execution_count": 48,
     "metadata": {},
     "output_type": "execute_result"
    }
   ],
   "source": [
    "c * 100"
   ]
  },
  {
   "cell_type": "code",
   "execution_count": null,
   "id": "4d9a332c",
   "metadata": {},
   "outputs": [],
   "source": []
  }
 ],
 "metadata": {
  "kernelspec": {
   "display_name": "Python 3 (ipykernel)",
   "language": "python",
   "name": "python3"
  },
  "language_info": {
   "codemirror_mode": {
    "name": "ipython",
    "version": 3
   },
   "file_extension": ".py",
   "mimetype": "text/x-python",
   "name": "python",
   "nbconvert_exporter": "python",
   "pygments_lexer": "ipython3",
   "version": "3.11.4"
  }
 },
 "nbformat": 4,
 "nbformat_minor": 5
}
