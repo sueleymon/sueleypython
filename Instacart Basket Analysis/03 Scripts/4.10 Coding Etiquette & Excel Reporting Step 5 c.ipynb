{
 "cells": [
  {
   "cell_type": "markdown",
   "id": "1618b264",
   "metadata": {},
   "source": [
    "# 4.10: Coding Etiquette & Excel Reporting"
   ]
  },
  {
   "cell_type": "markdown",
   "id": "55823be6",
   "metadata": {},
   "source": [
    "## Contents\n",
    "\n",
    "### 01. Importing libaries\n",
    "### 02. Importing data\n",
    "### 03. Create a profiling variable based on age, income, certain goods in the “department_id” column, and number of dependents(Step 5 c) "
   ]
  },
  {
   "cell_type": "markdown",
   "id": "19938000",
   "metadata": {},
   "source": [
    "## 01. Importing libraries"
   ]
  },
  {
   "cell_type": "code",
   "execution_count": 1,
   "id": "9b75e5bf",
   "metadata": {},
   "outputs": [],
   "source": [
    "import pandas as pd\n",
    "import numpy as np\n",
    "import os"
   ]
  },
  {
   "cell_type": "markdown",
   "id": "03e433f1",
   "metadata": {},
   "source": [
    "## 02. Importing data"
   ]
  },
  {
   "cell_type": "code",
   "execution_count": 2,
   "id": "3e98dc0b",
   "metadata": {},
   "outputs": [],
   "source": [
    "path = r'C:\\Users\\Sulo\\Desktop\\Careerfoundry\\11.09.2023 Instacart Basket Analysis'"
   ]
  },
  {
   "cell_type": "code",
   "execution_count": 3,
   "id": "43041014",
   "metadata": {},
   "outputs": [],
   "source": [
    "# Import the pickle file\n",
    "ords_prods_updated = pd.read_pickle(os.path.join(path, '02 Data', 'Prepared Data', 'orders_products_updated_v4.pkl'))"
   ]
  },
  {
   "cell_type": "markdown",
   "id": "16d6eeb5",
   "metadata": {},
   "source": [
    "## 03. Create a profiling variable based on age, income, certain goods in the “department_id” column, and number of dependents(Step 5 c) "
   ]
  },
  {
   "cell_type": "markdown",
   "id": "5966b253",
   "metadata": {},
   "source": [
    "### Creating Family Profiles"
   ]
  },
  {
   "cell_type": "code",
   "execution_count": 4,
   "id": "daf40a1c",
   "metadata": {},
   "outputs": [
    {
     "data": {
      "text/plain": [
       "fam_status\n",
       "married                             21743711\n",
       "single                               5094410\n",
       "divorced/widowed                     2645271\n",
       "living with parents and siblings     1481172\n",
       "Name: count, dtype: int64"
      ]
     },
     "execution_count": 4,
     "metadata": {},
     "output_type": "execute_result"
    }
   ],
   "source": [
    "# Check the variables of 'fam_status' column\n",
    "ords_prods_updated['fam_status'].value_counts(dropna = False)"
   ]
  },
  {
   "cell_type": "code",
   "execution_count": 5,
   "id": "b8b706e0",
   "metadata": {},
   "outputs": [
    {
     "data": {
      "text/plain": [
       "age_profile\n",
       "Young Adult          10665110\n",
       "Old Adult            10574504\n",
       "Middle-aged Adult     9724950\n",
       "Name: count, dtype: int64"
      ]
     },
     "execution_count": 5,
     "metadata": {},
     "output_type": "execute_result"
    }
   ],
   "source": [
    "ords_prods_updated['age_profile'].value_counts(dropna = False)"
   ]
  },
  {
   "cell_type": "code",
   "execution_count": 74,
   "id": "947de249",
   "metadata": {
    "scrolled": false
   },
   "outputs": [
    {
     "data": {
      "text/plain": [
       "dependants_profile\n",
       "Has dependants       23224883\n",
       "Has no dependants     7739681\n",
       "Name: count, dtype: int64"
      ]
     },
     "execution_count": 74,
     "metadata": {},
     "output_type": "execute_result"
    }
   ],
   "source": [
    "ords_prods_updated['dependants_profile'].value_counts(dropna = False)"
   ]
  },
  {
   "cell_type": "markdown",
   "id": "00a187a5",
   "metadata": {},
   "source": []
  },
  {
   "cell_type": "code",
   "execution_count": 75,
   "id": "68f9905a",
   "metadata": {},
   "outputs": [],
   "source": [
    "ords_prods_updated.loc[(ords_prods_updated['fam_status'] == 'married') & (ords_prods_updated['dependants_profile'] == 'Has dependants') & (ords_prods_updated['age_profile'] == 'Young Adult') & (ords_prods_updated['income_profile'] == 'Low-income'), 'customer_profile'] = 'Low-income younger parent'"
   ]
  },
  {
   "cell_type": "code",
   "execution_count": 76,
   "id": "6bf469d2",
   "metadata": {},
   "outputs": [],
   "source": [
    "ords_prods_updated.loc[(ords_prods_updated['fam_status'] == 'married') & (ords_prods_updated['dependants_profile'] == 'Has dependants') & (ords_prods_updated['age_profile'] == 'Middle-aged Adult') & (ords_prods_updated['income_profile'] == 'Low-income'), 'customer_profile'] = 'Low-income parent'"
   ]
  },
  {
   "cell_type": "code",
   "execution_count": 77,
   "id": "7374fafa",
   "metadata": {},
   "outputs": [],
   "source": [
    "ords_prods_updated.loc[(ords_prods_updated['fam_status'] == 'married') & (ords_prods_updated['dependants_profile'] == 'Has dependants') & (ords_prods_updated['age_profile'] == 'Old Adult') & (ords_prods_updated['income_profile'] == 'Low-income'), 'customer_profile'] = 'Low-income old parent'"
   ]
  },
  {
   "cell_type": "code",
   "execution_count": 78,
   "id": "99300ba4",
   "metadata": {},
   "outputs": [],
   "source": [
    "ords_prods_updated.loc[(ords_prods_updated['fam_status'] == 'married') & (ords_prods_updated['dependants_profile'] == 'Has dependants') & (ords_prods_updated['age_profile'] == 'Young Adult') & (ords_prods_updated['income_profile'] == 'Middle-income'), 'customer_profile'] = 'Middle-income younger parent'"
   ]
  },
  {
   "cell_type": "code",
   "execution_count": 79,
   "id": "2e0fe753",
   "metadata": {},
   "outputs": [],
   "source": [
    "ords_prods_updated.loc[(ords_prods_updated['fam_status'] == 'married') & (ords_prods_updated['dependants_profile'] == 'Has dependants') & (ords_prods_updated['age_profile'] == 'Middle-aged Adult') & (ords_prods_updated['income_profile'] == 'Middle-income'), 'customer_profile'] = 'Middle-income parent'"
   ]
  },
  {
   "cell_type": "code",
   "execution_count": 80,
   "id": "bd118fcc",
   "metadata": {},
   "outputs": [],
   "source": [
    "ords_prods_updated.loc[(ords_prods_updated['fam_status'] == 'married') & (ords_prods_updated['dependants_profile'] == 'Has dependants') & (ords_prods_updated['age_profile'] == 'Old Adult') & (ords_prods_updated['income_profile'] == 'Middle-income'), 'customer_profile'] = 'Middle-income old parent'"
   ]
  },
  {
   "cell_type": "code",
   "execution_count": 81,
   "id": "1928b3c9",
   "metadata": {},
   "outputs": [],
   "source": [
    "ords_prods_updated.loc[(ords_prods_updated['fam_status'] == 'married') & (ords_prods_updated['dependants_profile'] == 'Has dependants') & (ords_prods_updated['age_profile'] == 'Young Adult') & (ords_prods_updated['income_profile'] == 'High-income'), 'customer_profile'] = 'High-income younger parent'"
   ]
  },
  {
   "cell_type": "code",
   "execution_count": 82,
   "id": "077a1547",
   "metadata": {},
   "outputs": [],
   "source": [
    "ords_prods_updated.loc[(ords_prods_updated['fam_status'] == 'married') & (ords_prods_updated['dependants_profile'] == 'Has dependants') & (ords_prods_updated['age_profile'] == 'Middle-aged Adult') & (ords_prods_updated['income_profile'] == 'High-income'), 'customer_profile'] = 'High-income parent'"
   ]
  },
  {
   "cell_type": "code",
   "execution_count": 83,
   "id": "2b185c36",
   "metadata": {},
   "outputs": [],
   "source": [
    "ords_prods_updated.loc[(ords_prods_updated['fam_status'] == 'married') & (ords_prods_updated['dependants_profile'] == 'Has dependants') & (ords_prods_updated['age_profile'] == 'Old Adult') & (ords_prods_updated['income_profile'] == 'High-income'), 'customer_profile'] = 'High-income old parent'"
   ]
  },
  {
   "cell_type": "code",
   "execution_count": 84,
   "id": "2e9fceae",
   "metadata": {},
   "outputs": [],
   "source": [
    "ords_prods_updated.loc[(ords_prods_updated['fam_status'] != 'married') & (ords_prods_updated['dependants_profile'] == 'Has dependants') & (ords_prods_updated['age_profile'] == 'Young Adult') & (ords_prods_updated['income_profile'] == 'Low-income'), 'customer_profile'] = 'Low-income single younger parent'"
   ]
  },
  {
   "cell_type": "code",
   "execution_count": 85,
   "id": "25b194a2",
   "metadata": {},
   "outputs": [],
   "source": [
    "ords_prods_updated.loc[(ords_prods_updated['fam_status'] != 'married') & (ords_prods_updated['dependants_profile'] == 'Has dependants') & (ords_prods_updated['age_profile'] == 'Middle-aged Adult') & (ords_prods_updated['income_profile'] == 'Low-income'), 'customer_profile'] = 'Low-income single parent'"
   ]
  },
  {
   "cell_type": "code",
   "execution_count": 86,
   "id": "5291b65b",
   "metadata": {},
   "outputs": [],
   "source": [
    "ords_prods_updated.loc[(ords_prods_updated['fam_status'] != 'married') & (ords_prods_updated['dependants_profile'] == 'Has dependants') & (ords_prods_updated['age_profile'] == 'Old Adult') & (ords_prods_updated['income_profile'] == 'Low-income'), 'customer_profile'] = 'Low-income single old parent'"
   ]
  },
  {
   "cell_type": "code",
   "execution_count": 87,
   "id": "e4cf3fa0",
   "metadata": {},
   "outputs": [],
   "source": [
    "ords_prods_updated.loc[(ords_prods_updated['fam_status'] != 'married') & (ords_prods_updated['dependants_profile'] == 'Has dependants') & (ords_prods_updated['age_profile'] == 'Young Adult') & (ords_prods_updated['income_profile'] == 'Middle-income'), 'customer_profile'] = 'Middle-income single younger parent'"
   ]
  },
  {
   "cell_type": "code",
   "execution_count": 88,
   "id": "7780873d",
   "metadata": {},
   "outputs": [],
   "source": [
    "ords_prods_updated.loc[(ords_prods_updated['fam_status'] != 'married') & (ords_prods_updated['dependants_profile'] == 'Has dependants') & (ords_prods_updated['age_profile'] == 'Middle-aged Adult') & (ords_prods_updated['income_profile'] == 'Middle-income'), 'customer_profile'] = 'Middle-income single parent'"
   ]
  },
  {
   "cell_type": "code",
   "execution_count": 89,
   "id": "65a21311",
   "metadata": {},
   "outputs": [],
   "source": [
    "ords_prods_updated.loc[(ords_prods_updated['fam_status'] != 'married') & (ords_prods_updated['dependants_profile'] == 'Has dependants') & (ords_prods_updated['age_profile'] == 'Old Adult') & (ords_prods_updated['income_profile'] == 'Middle-income'), 'customer_profile'] = 'Middle-income single old parent'"
   ]
  },
  {
   "cell_type": "code",
   "execution_count": 90,
   "id": "ccd4dcda",
   "metadata": {},
   "outputs": [],
   "source": [
    "ords_prods_updated.loc[(ords_prods_updated['fam_status'] != 'married') & (ords_prods_updated['dependants_profile'] == 'Has dependants') & (ords_prods_updated['age_profile'] == 'Young Adult') & (ords_prods_updated['income_profile'] == 'High-income'), 'customer_profile'] = 'High-income single younger parent'"
   ]
  },
  {
   "cell_type": "code",
   "execution_count": 91,
   "id": "5d955965",
   "metadata": {},
   "outputs": [],
   "source": [
    "ords_prods_updated.loc[(ords_prods_updated['fam_status'] != 'married') & (ords_prods_updated['dependants_profile'] == 'Has dependants') & (ords_prods_updated['age_profile'] == 'Middle-aged Adult') & (ords_prods_updated['income_profile'] == 'High-income'), 'customer_profile'] = 'High-income single parent'"
   ]
  },
  {
   "cell_type": "code",
   "execution_count": 92,
   "id": "41d9cff5",
   "metadata": {},
   "outputs": [],
   "source": [
    "ords_prods_updated.loc[(ords_prods_updated['fam_status'] != 'married') & (ords_prods_updated['dependants_profile'] == 'Has dependants') & (ords_prods_updated['age_profile'] == 'Old Adult') & (ords_prods_updated['income_profile'] == 'High-income'), 'customer_profile'] = 'High-income single old parent'"
   ]
  },
  {
   "cell_type": "code",
   "execution_count": 93,
   "id": "ee5f80fa",
   "metadata": {},
   "outputs": [],
   "source": [
    "ords_prods_updated.loc[(ords_prods_updated['fam_status'] != 'married') & (ords_prods_updated['dependants_profile'] == 'Has no dependants') & (ords_prods_updated['age_profile'] == 'Young Adult') & (ords_prods_updated['income_profile'] == 'Low-income'), 'customer_profile'] = 'Low-income single young adult'"
   ]
  },
  {
   "cell_type": "code",
   "execution_count": 94,
   "id": "61c3b888",
   "metadata": {},
   "outputs": [],
   "source": [
    "ords_prods_updated.loc[(ords_prods_updated['fam_status'] != 'married') & (ords_prods_updated['dependants_profile'] == 'Has no dependants') & (ords_prods_updated['age_profile'] == 'Young Adult') & (ords_prods_updated['income_profile'] == 'Middle-income'), 'customer_profile'] = 'Middle-income single young adult'"
   ]
  },
  {
   "cell_type": "code",
   "execution_count": 95,
   "id": "b1911744",
   "metadata": {},
   "outputs": [],
   "source": [
    "ords_prods_updated.loc[(ords_prods_updated['fam_status'] != 'married') & (ords_prods_updated['dependants_profile'] == 'Has no dependants') & (ords_prods_updated['age_profile'] == 'Young Adult') & (ords_prods_updated['income_profile'] == 'High-income'), 'customer_profile'] = 'High-income single young adult'"
   ]
  },
  {
   "cell_type": "code",
   "execution_count": 96,
   "id": "59d1300a",
   "metadata": {},
   "outputs": [],
   "source": [
    "ords_prods_updated.loc[(ords_prods_updated['fam_status'] != 'married') & (ords_prods_updated['dependants_profile'] == 'Has no dependants') & (ords_prods_updated['age_profile'] == 'Middle-aged Adult') & (ords_prods_updated['income_profile'] == 'Low-income'), 'customer_profile'] = 'Low-income single adult'"
   ]
  },
  {
   "cell_type": "code",
   "execution_count": 97,
   "id": "c4d3041e",
   "metadata": {},
   "outputs": [],
   "source": [
    "ords_prods_updated.loc[(ords_prods_updated['fam_status'] != 'married') & (ords_prods_updated['dependants_profile'] == 'Has no dependants') & (ords_prods_updated['age_profile'] == 'Middle-aged Adult') & (ords_prods_updated['income_profile'] == 'Middle-income'), 'customer_profile'] = 'Middle-income single adult'"
   ]
  },
  {
   "cell_type": "code",
   "execution_count": 98,
   "id": "9090c7ed",
   "metadata": {},
   "outputs": [],
   "source": [
    "ords_prods_updated.loc[(ords_prods_updated['fam_status'] != 'married') & (ords_prods_updated['dependants_profile'] == 'Has no dependants') & (ords_prods_updated['age_profile'] == 'Middle-aged Adult') & (ords_prods_updated['income_profile'] == 'High-income'), 'customer_profile'] = 'High-income single adult'"
   ]
  },
  {
   "cell_type": "code",
   "execution_count": 99,
   "id": "fde57ce4",
   "metadata": {},
   "outputs": [],
   "source": [
    "ords_prods_updated.loc[(ords_prods_updated['fam_status'] != 'married') & (ords_prods_updated['dependants_profile'] == 'Has no dependants') & (ords_prods_updated['age_profile'] == 'Old Adult') & (ords_prods_updated['income_profile'] == 'Low-income'), 'customer_profile'] = 'Low-income old adult'"
   ]
  },
  {
   "cell_type": "code",
   "execution_count": 100,
   "id": "b63a2377",
   "metadata": {},
   "outputs": [],
   "source": [
    "ords_prods_updated.loc[(ords_prods_updated['fam_status'] != 'married') & (ords_prods_updated['dependants_profile'] == 'Has no dependants') & (ords_prods_updated['age_profile'] == 'Old Adult') & (ords_prods_updated['income_profile'] == 'Middle-income'), 'customer_profile'] = 'Middle-income old adult'"
   ]
  },
  {
   "cell_type": "code",
   "execution_count": 101,
   "id": "a56cb16e",
   "metadata": {},
   "outputs": [],
   "source": [
    "ords_prods_updated.loc[(ords_prods_updated['fam_status'] != 'married') & (ords_prods_updated['dependants_profile'] == 'Has no dependants') & (ords_prods_updated['age_profile'] == 'Old Adult') & (ords_prods_updated['income_profile'] == 'High-income'), 'customer_profile'] = 'High-income old adult'"
   ]
  },
  {
   "cell_type": "code",
   "execution_count": 102,
   "id": "23671903",
   "metadata": {
    "scrolled": true
   },
   "outputs": [
    {
     "data": {
      "text/plain": [
       "customer_profile\n",
       "Middle-income old parent               5772575\n",
       "Middle-income younger parent           5456014\n",
       "Middle-income parent                   5336939\n",
       "Middle-income single young adult       2210821\n",
       "Middle-income old adult                1920214\n",
       "Middle-income single adult             1765253\n",
       "High-income old parent                 1494408\n",
       "High-income parent                     1325208\n",
       "Middle-income single younger parent    1245660\n",
       "Low-income younger parent              1003874\n",
       "Low-income old parent                   662250\n",
       "Low-income parent                       628968\n",
       "High-income old adult                   514347\n",
       "High-income single adult                458503\n",
       "Low-income single young adult           426131\n",
       "Low-income single younger parent        220542\n",
       "Low-income old adult                    210710\n",
       "Low-income single adult                 210079\n",
       "High-income younger parent               63475\n",
       "High-income single young adult           23623\n",
       "High-income single younger parent        14970\n",
       "Name: count, dtype: int64"
      ]
     },
     "execution_count": 102,
     "metadata": {},
     "output_type": "execute_result"
    }
   ],
   "source": [
    "ords_prods_updated['customer_profile'].value_counts(dropna = False)"
   ]
  },
  {
   "cell_type": "code",
   "execution_count": 104,
   "id": "d72fea8a",
   "metadata": {},
   "outputs": [],
   "source": [
    "# Export the updated list\n",
    "ords_prods_updated.to_pickle(os.path.join(path, '02 Data', 'Prepared Data', 'ords_prods_updated_v5.pkl'))"
   ]
  }
 ],
 "metadata": {
  "kernelspec": {
   "display_name": "Python 3 (ipykernel)",
   "language": "python",
   "name": "python3"
  },
  "language_info": {
   "codemirror_mode": {
    "name": "ipython",
    "version": 3
   },
   "file_extension": ".py",
   "mimetype": "text/x-python",
   "name": "python",
   "nbconvert_exporter": "python",
   "pygments_lexer": "ipython3",
   "version": "3.11.4"
  }
 },
 "nbformat": 4,
 "nbformat_minor": 5
}
