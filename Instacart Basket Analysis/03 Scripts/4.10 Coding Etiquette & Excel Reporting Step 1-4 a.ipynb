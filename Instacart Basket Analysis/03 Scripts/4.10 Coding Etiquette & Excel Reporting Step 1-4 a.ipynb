{
 "cells": [
  {
   "cell_type": "markdown",
   "id": "c0e341c6",
   "metadata": {},
   "source": [
    "# 4.10: Coding Etiquette & Excel Reporting"
   ]
  },
  {
   "cell_type": "markdown",
   "id": "ac06902d",
   "metadata": {},
   "source": [
    "## Contents\n",
    "\n",
    "### 01. Importing libaries\n",
    "### 02. Importing data\n",
    "### 03. Check for data consistency\n",
    "### 04. Address any PII issue the data set might have (Step 2)\n",
    "### 05. Create a 'region' column based on the 'state' column (Step 3)\n",
    "### 06. Exclusion flag for low revenue customers (Step 4 a)\n"
   ]
  },
  {
   "cell_type": "markdown",
   "id": "809dd002",
   "metadata": {},
   "source": [
    "## 01. Importing libraries"
   ]
  },
  {
   "cell_type": "code",
   "execution_count": 1,
   "id": "c3a91ef9",
   "metadata": {},
   "outputs": [],
   "source": [
    "import pandas as pd\n",
    "import numpy as np\n",
    "import os\n",
    "import matplotlib.pyplot as plt\n",
    "import seaborn as sns\n",
    "import scipy"
   ]
  },
  {
   "cell_type": "markdown",
   "id": "373255e0",
   "metadata": {},
   "source": [
    "## 02. Importing data"
   ]
  },
  {
   "cell_type": "code",
   "execution_count": 2,
   "id": "6738ed58",
   "metadata": {},
   "outputs": [],
   "source": [
    "path = r'C:\\Users\\Sulo\\Desktop\\Careerfoundry\\11.09.2023 Instacart Basket Analysis'"
   ]
  },
  {
   "cell_type": "code",
   "execution_count": 3,
   "id": "6c9c8a54",
   "metadata": {},
   "outputs": [],
   "source": [
    "# Import the pickle file\n",
    "ords_prods_merge = pd.read_pickle(os.path.join(path, '02 Data', 'Prepared Data', 'orders_products_customer_merge.pkl'))"
   ]
  },
  {
   "cell_type": "markdown",
   "id": "8e894145",
   "metadata": {},
   "source": [
    "### 03. Check for data consistency "
   ]
  },
  {
   "cell_type": "code",
   "execution_count": 4,
   "id": "60486bda",
   "metadata": {
    "scrolled": true
   },
   "outputs": [
    {
     "data": {
      "text/plain": [
       "order_id                        0\n",
       "user_id                         0\n",
       "order_amount                    0\n",
       "orders_day_of_week              0\n",
       "order_hour_of_day               0\n",
       "days_since_prior_order          0\n",
       "product_id                      0\n",
       "add_to_cart_order               0\n",
       "reordered                       0\n",
       "product_name                    0\n",
       "aisle_id                        0\n",
       "department_id                   0\n",
       "prices                       5127\n",
       "price_range_loc                 0\n",
       "busiest_days                    0\n",
       "busiest_period_of_day_loc       0\n",
       "max_order                       0\n",
       "loyalty_flag                    0\n",
       "avg_order                       0\n",
       "spending_flag                   0\n",
       "med_days                        0\n",
       "order_frequency_flag            0\n",
       "first_name                      0\n",
       "surname                         0\n",
       "gender                          0\n",
       "state                           0\n",
       "age                             0\n",
       "date_joined                     0\n",
       "n_dependants                    0\n",
       "fam_status                      0\n",
       "income                          0\n",
       "dtype: int64"
      ]
     },
     "execution_count": 4,
     "metadata": {},
     "output_type": "execute_result"
    }
   ],
   "source": [
    "ords_prods_merge.isnull().sum()"
   ]
  },
  {
   "cell_type": "markdown",
   "id": "be34bb80",
   "metadata": {},
   "source": [
    "### The missing values of price are not computable and I didn't want to delete the rows of it, because it doesn't impact the analysis. 5127 missing values are 0.016% of the whole data and won't impact the results."
   ]
  },
  {
   "cell_type": "markdown",
   "id": "f55d1a89",
   "metadata": {},
   "source": [
    "### 04. Address any PII issue the data set might have (Step 2)"
   ]
  },
  {
   "cell_type": "code",
   "execution_count": 5,
   "id": "a8ea9a4c",
   "metadata": {},
   "outputs": [
    {
     "data": {
      "text/plain": [
       "Index(['order_id', 'user_id', 'order_amount', 'orders_day_of_week',\n",
       "       'order_hour_of_day', 'days_since_prior_order', 'product_id',\n",
       "       'add_to_cart_order', 'reordered', 'product_name', 'aisle_id',\n",
       "       'department_id', 'prices', 'price_range_loc', 'busiest_days',\n",
       "       'busiest_period_of_day_loc', 'max_order', 'loyalty_flag', 'avg_order',\n",
       "       'spending_flag', 'med_days', 'order_frequency_flag', 'first_name',\n",
       "       'surname', 'gender', 'state', 'age', 'date_joined', 'n_dependants',\n",
       "       'fam_status', 'income'],\n",
       "      dtype='object')"
      ]
     },
     "execution_count": 5,
     "metadata": {},
     "output_type": "execute_result"
    }
   ],
   "source": [
    "# Check for columns that reveal sensitive information\n",
    "ords_prods_merge.columns"
   ]
  },
  {
   "cell_type": "code",
   "execution_count": 6,
   "id": "af624c65",
   "metadata": {},
   "outputs": [],
   "source": [
    "# Remove columns 'first name' and 'surname'\n",
    "df_pii_safe = ords_prods_merge.drop(columns = ['first_name', 'surname'])"
   ]
  },
  {
   "cell_type": "code",
   "execution_count": 7,
   "id": "d9a57d1a",
   "metadata": {},
   "outputs": [
    {
     "data": {
      "text/plain": [
       "(32404859, 29)"
      ]
     },
     "execution_count": 7,
     "metadata": {},
     "output_type": "execute_result"
    }
   ],
   "source": [
    "# From the previous exercise I knew that we had 31 columns and now it's 29 so dropping the columns worked\n",
    "df_pii_safe.shape"
   ]
  },
  {
   "cell_type": "markdown",
   "id": "dec4cb3c",
   "metadata": {},
   "source": [
    "### 05. Create a 'region' column based on the 'state' column (Step 3)"
   ]
  },
  {
   "cell_type": "code",
   "execution_count": 8,
   "id": "cd0c0c1b",
   "metadata": {},
   "outputs": [],
   "source": [
    "# Assign states to regions \n",
    "Northeast =['Maine', 'New Hampshire', 'Vermont', 'Massachusetts', 'Rhode Island', 'Connecticut', 'New York', 'Pennsylvania', 'New Jersey']\n",
    "Midwest = ['Wisconsin', 'Michigan','Illinois', 'Indiana', 'Ohio', 'North Dakota', 'South Dakota', 'Nebraska', 'Kansas', 'Minnesota', 'Iowa', 'Missouri']\n",
    "South = ['Delaware', 'Maryland', 'District of Columbia', 'Virginia', 'West Virginia', 'North Carolina', 'South Carolina', 'Georgia', 'Florida', 'Kentucky', 'Tennessee', 'Mississippi', 'Alabama', 'Oklahoma', 'Texas', 'Arkansas', 'Louisiana']\n",
    "West = ['Idaho', 'Montana', 'Wyoming', 'Nevada', 'Utah', 'Colorado', 'Arizona', 'New Mexico', 'Alaska', 'Washington', 'Oregon', 'California', 'Hawaii']"
   ]
  },
  {
   "cell_type": "markdown",
   "id": "5b1f9153",
   "metadata": {},
   "source": [
    "### We use the loc function to target every row/column and then we use the isin function alongside the variable\n",
    "### to assign to a new column called 'region' based on the values of state. Needed to use the cheat sheet for that"
   ]
  },
  {
   "cell_type": "code",
   "execution_count": 9,
   "id": "2eac8157",
   "metadata": {},
   "outputs": [],
   "source": [
    "df_pii_safe.loc[df_pii_safe['state'].isin(Northeast), 'region'] = 'Northeast'"
   ]
  },
  {
   "cell_type": "code",
   "execution_count": 10,
   "id": "3d6d4238",
   "metadata": {},
   "outputs": [],
   "source": [
    "df_pii_safe.loc[df_pii_safe['state'].isin(Midwest), 'region'] = 'Midwest'"
   ]
  },
  {
   "cell_type": "code",
   "execution_count": 11,
   "id": "263494f0",
   "metadata": {},
   "outputs": [],
   "source": [
    "df_pii_safe.loc[df_pii_safe['state'].isin(South), 'region'] = 'South'"
   ]
  },
  {
   "cell_type": "code",
   "execution_count": 12,
   "id": "a96b0e64",
   "metadata": {},
   "outputs": [],
   "source": [
    "df_pii_safe.loc[df_pii_safe['state'].isin(West), 'region'] = 'West'"
   ]
  },
  {
   "cell_type": "code",
   "execution_count": 13,
   "id": "e346836e",
   "metadata": {},
   "outputs": [
    {
     "data": {
      "text/plain": [
       "(32404859, 30)"
      ]
     },
     "execution_count": 13,
     "metadata": {},
     "output_type": "execute_result"
    }
   ],
   "source": [
    "# Check if the 'region' column got added\n",
    "df_pii_safe.shape"
   ]
  },
  {
   "cell_type": "code",
   "execution_count": 14,
   "id": "72534530",
   "metadata": {},
   "outputs": [
    {
     "data": {
      "text/html": [
       "<div>\n",
       "<style scoped>\n",
       "    .dataframe tbody tr th:only-of-type {\n",
       "        vertical-align: middle;\n",
       "    }\n",
       "\n",
       "    .dataframe tbody tr th {\n",
       "        vertical-align: top;\n",
       "    }\n",
       "\n",
       "    .dataframe thead th {\n",
       "        text-align: right;\n",
       "    }\n",
       "</style>\n",
       "<table border=\"1\" class=\"dataframe\">\n",
       "  <thead>\n",
       "    <tr style=\"text-align: right;\">\n",
       "      <th></th>\n",
       "      <th>order_id</th>\n",
       "      <th>user_id</th>\n",
       "      <th>order_amount</th>\n",
       "      <th>orders_day_of_week</th>\n",
       "      <th>order_hour_of_day</th>\n",
       "      <th>days_since_prior_order</th>\n",
       "      <th>product_id</th>\n",
       "      <th>add_to_cart_order</th>\n",
       "      <th>reordered</th>\n",
       "      <th>product_name</th>\n",
       "      <th>...</th>\n",
       "      <th>med_days</th>\n",
       "      <th>order_frequency_flag</th>\n",
       "      <th>gender</th>\n",
       "      <th>state</th>\n",
       "      <th>age</th>\n",
       "      <th>date_joined</th>\n",
       "      <th>n_dependants</th>\n",
       "      <th>fam_status</th>\n",
       "      <th>income</th>\n",
       "      <th>region</th>\n",
       "    </tr>\n",
       "  </thead>\n",
       "  <tbody>\n",
       "    <tr>\n",
       "      <th>0</th>\n",
       "      <td>2539329</td>\n",
       "      <td>1</td>\n",
       "      <td>1</td>\n",
       "      <td>2</td>\n",
       "      <td>8</td>\n",
       "      <td>7.0</td>\n",
       "      <td>196</td>\n",
       "      <td>1</td>\n",
       "      <td>0</td>\n",
       "      <td>Soda</td>\n",
       "      <td>...</td>\n",
       "      <td>20.0</td>\n",
       "      <td>Regular customer.</td>\n",
       "      <td>Female</td>\n",
       "      <td>Alabama</td>\n",
       "      <td>31</td>\n",
       "      <td>2/17/2019</td>\n",
       "      <td>3</td>\n",
       "      <td>married</td>\n",
       "      <td>40423</td>\n",
       "      <td>South</td>\n",
       "    </tr>\n",
       "    <tr>\n",
       "      <th>1</th>\n",
       "      <td>2398795</td>\n",
       "      <td>1</td>\n",
       "      <td>2</td>\n",
       "      <td>3</td>\n",
       "      <td>7</td>\n",
       "      <td>15.0</td>\n",
       "      <td>196</td>\n",
       "      <td>1</td>\n",
       "      <td>1</td>\n",
       "      <td>Soda</td>\n",
       "      <td>...</td>\n",
       "      <td>20.0</td>\n",
       "      <td>Regular customer.</td>\n",
       "      <td>Female</td>\n",
       "      <td>Alabama</td>\n",
       "      <td>31</td>\n",
       "      <td>2/17/2019</td>\n",
       "      <td>3</td>\n",
       "      <td>married</td>\n",
       "      <td>40423</td>\n",
       "      <td>South</td>\n",
       "    </tr>\n",
       "    <tr>\n",
       "      <th>2</th>\n",
       "      <td>473747</td>\n",
       "      <td>1</td>\n",
       "      <td>3</td>\n",
       "      <td>3</td>\n",
       "      <td>12</td>\n",
       "      <td>21.0</td>\n",
       "      <td>196</td>\n",
       "      <td>1</td>\n",
       "      <td>1</td>\n",
       "      <td>Soda</td>\n",
       "      <td>...</td>\n",
       "      <td>20.0</td>\n",
       "      <td>Regular customer.</td>\n",
       "      <td>Female</td>\n",
       "      <td>Alabama</td>\n",
       "      <td>31</td>\n",
       "      <td>2/17/2019</td>\n",
       "      <td>3</td>\n",
       "      <td>married</td>\n",
       "      <td>40423</td>\n",
       "      <td>South</td>\n",
       "    </tr>\n",
       "    <tr>\n",
       "      <th>3</th>\n",
       "      <td>2254736</td>\n",
       "      <td>1</td>\n",
       "      <td>4</td>\n",
       "      <td>4</td>\n",
       "      <td>7</td>\n",
       "      <td>29.0</td>\n",
       "      <td>196</td>\n",
       "      <td>1</td>\n",
       "      <td>1</td>\n",
       "      <td>Soda</td>\n",
       "      <td>...</td>\n",
       "      <td>20.0</td>\n",
       "      <td>Regular customer.</td>\n",
       "      <td>Female</td>\n",
       "      <td>Alabama</td>\n",
       "      <td>31</td>\n",
       "      <td>2/17/2019</td>\n",
       "      <td>3</td>\n",
       "      <td>married</td>\n",
       "      <td>40423</td>\n",
       "      <td>South</td>\n",
       "    </tr>\n",
       "    <tr>\n",
       "      <th>4</th>\n",
       "      <td>431534</td>\n",
       "      <td>1</td>\n",
       "      <td>5</td>\n",
       "      <td>4</td>\n",
       "      <td>15</td>\n",
       "      <td>28.0</td>\n",
       "      <td>196</td>\n",
       "      <td>1</td>\n",
       "      <td>1</td>\n",
       "      <td>Soda</td>\n",
       "      <td>...</td>\n",
       "      <td>20.0</td>\n",
       "      <td>Regular customer.</td>\n",
       "      <td>Female</td>\n",
       "      <td>Alabama</td>\n",
       "      <td>31</td>\n",
       "      <td>2/17/2019</td>\n",
       "      <td>3</td>\n",
       "      <td>married</td>\n",
       "      <td>40423</td>\n",
       "      <td>South</td>\n",
       "    </tr>\n",
       "  </tbody>\n",
       "</table>\n",
       "<p>5 rows × 30 columns</p>\n",
       "</div>"
      ],
      "text/plain": [
       "   order_id  user_id  order_amount  orders_day_of_week  order_hour_of_day  \\\n",
       "0   2539329        1             1                   2                  8   \n",
       "1   2398795        1             2                   3                  7   \n",
       "2    473747        1             3                   3                 12   \n",
       "3   2254736        1             4                   4                  7   \n",
       "4    431534        1             5                   4                 15   \n",
       "\n",
       "   days_since_prior_order  product_id  add_to_cart_order  reordered  \\\n",
       "0                     7.0         196                  1          0   \n",
       "1                    15.0         196                  1          1   \n",
       "2                    21.0         196                  1          1   \n",
       "3                    29.0         196                  1          1   \n",
       "4                    28.0         196                  1          1   \n",
       "\n",
       "  product_name  ...  med_days  order_frequency_flag  gender    state age  \\\n",
       "0         Soda  ...      20.0     Regular customer.  Female  Alabama  31   \n",
       "1         Soda  ...      20.0     Regular customer.  Female  Alabama  31   \n",
       "2         Soda  ...      20.0     Regular customer.  Female  Alabama  31   \n",
       "3         Soda  ...      20.0     Regular customer.  Female  Alabama  31   \n",
       "4         Soda  ...      20.0     Regular customer.  Female  Alabama  31   \n",
       "\n",
       "  date_joined  n_dependants fam_status  income region  \n",
       "0   2/17/2019             3    married   40423  South  \n",
       "1   2/17/2019             3    married   40423  South  \n",
       "2   2/17/2019             3    married   40423  South  \n",
       "3   2/17/2019             3    married   40423  South  \n",
       "4   2/17/2019             3    married   40423  South  \n",
       "\n",
       "[5 rows x 30 columns]"
      ]
     },
     "execution_count": 14,
     "metadata": {},
     "output_type": "execute_result"
    }
   ],
   "source": [
    "# Check again if it worked correctly\n",
    "df_pii_safe.head()"
   ]
  },
  {
   "cell_type": "code",
   "execution_count": 15,
   "id": "00d3d3cb",
   "metadata": {},
   "outputs": [],
   "source": [
    "# Create a pivot table in phyton to compare the values\n",
    "crosstab = pd.crosstab(df_pii_safe['region'], df_pii_safe['spending_flag'], dropna = False)"
   ]
  },
  {
   "cell_type": "code",
   "execution_count": 16,
   "id": "1ea972ed",
   "metadata": {},
   "outputs": [
    {
     "data": {
      "text/html": [
       "<div>\n",
       "<style scoped>\n",
       "    .dataframe tbody tr th:only-of-type {\n",
       "        vertical-align: middle;\n",
       "    }\n",
       "\n",
       "    .dataframe tbody tr th {\n",
       "        vertical-align: top;\n",
       "    }\n",
       "\n",
       "    .dataframe thead th {\n",
       "        text-align: right;\n",
       "    }\n",
       "</style>\n",
       "<table border=\"1\" class=\"dataframe\">\n",
       "  <thead>\n",
       "    <tr style=\"text-align: right;\">\n",
       "      <th>spending_flag</th>\n",
       "      <th>High spender</th>\n",
       "      <th>Low spender</th>\n",
       "    </tr>\n",
       "    <tr>\n",
       "      <th>region</th>\n",
       "      <th></th>\n",
       "      <th></th>\n",
       "    </tr>\n",
       "  </thead>\n",
       "  <tbody>\n",
       "    <tr>\n",
       "      <th>Midwest</th>\n",
       "      <td>155975</td>\n",
       "      <td>7441350</td>\n",
       "    </tr>\n",
       "    <tr>\n",
       "      <th>Northeast</th>\n",
       "      <td>108225</td>\n",
       "      <td>5614511</td>\n",
       "    </tr>\n",
       "    <tr>\n",
       "      <th>South</th>\n",
       "      <td>209691</td>\n",
       "      <td>10582194</td>\n",
       "    </tr>\n",
       "    <tr>\n",
       "      <th>West</th>\n",
       "      <td>160354</td>\n",
       "      <td>8132559</td>\n",
       "    </tr>\n",
       "  </tbody>\n",
       "</table>\n",
       "</div>"
      ],
      "text/plain": [
       "spending_flag  High spender  Low spender\n",
       "region                                  \n",
       "Midwest              155975      7441350\n",
       "Northeast            108225      5614511\n",
       "South                209691     10582194\n",
       "West                 160354      8132559"
      ]
     },
     "execution_count": 16,
     "metadata": {},
     "output_type": "execute_result"
    }
   ],
   "source": [
    "crosstab"
   ]
  },
  {
   "cell_type": "markdown",
   "id": "8a83d5c7",
   "metadata": {},
   "source": [
    "### There doesn't seem to be a big difference because based on the total customers the values are very similar"
   ]
  },
  {
   "cell_type": "markdown",
   "id": "85d281c8",
   "metadata": {},
   "source": [
    "### 06. Exclusion flag for low revenue customers (Step 4 a)"
   ]
  },
  {
   "cell_type": "code",
   "execution_count": 17,
   "id": "e2406e5e",
   "metadata": {},
   "outputs": [],
   "source": [
    "# Create a column by deriving information from the 'max order' column to the column 'activity flag' for High-activity customers\n",
    "df_pii_safe.loc[df_pii_safe['max_order'] >= 5, 'activity_flag'] = 'High-activity customer'"
   ]
  },
  {
   "cell_type": "code",
   "execution_count": 18,
   "id": "a2f56605",
   "metadata": {},
   "outputs": [],
   "source": [
    "# Create a column by deriving information from the 'max order' column to the column 'activity flag' for Low-activity customers\n",
    "df_pii_safe.loc[df_pii_safe['max_order'] < 5, 'activity_flag'] = 'Low-activity customer'"
   ]
  },
  {
   "cell_type": "code",
   "execution_count": 19,
   "id": "fb6cbeea",
   "metadata": {},
   "outputs": [
    {
     "data": {
      "text/plain": [
       "activity_flag\n",
       "High-activity customer    30964564\n",
       "Low-activity customer      1440295\n",
       "Name: count, dtype: int64"
      ]
     },
     "execution_count": 19,
     "metadata": {},
     "output_type": "execute_result"
    }
   ],
   "source": [
    "# Check if the values add up\n",
    "df_pii_safe['activity_flag'].value_counts(dropna = False)"
   ]
  },
  {
   "cell_type": "code",
   "execution_count": 20,
   "id": "5c4e5abf",
   "metadata": {},
   "outputs": [],
   "source": [
    "# Set the data frame for low-activity customer\n",
    "low_activity_customer = df_pii_safe[df_pii_safe['activity_flag'] == 'Low-activity customer']"
   ]
  },
  {
   "cell_type": "code",
   "execution_count": 21,
   "id": "5d87f512",
   "metadata": {},
   "outputs": [
    {
     "data": {
      "text/html": [
       "<div>\n",
       "<style scoped>\n",
       "    .dataframe tbody tr th:only-of-type {\n",
       "        vertical-align: middle;\n",
       "    }\n",
       "\n",
       "    .dataframe tbody tr th {\n",
       "        vertical-align: top;\n",
       "    }\n",
       "\n",
       "    .dataframe thead th {\n",
       "        text-align: right;\n",
       "    }\n",
       "</style>\n",
       "<table border=\"1\" class=\"dataframe\">\n",
       "  <thead>\n",
       "    <tr style=\"text-align: right;\">\n",
       "      <th></th>\n",
       "      <th>order_id</th>\n",
       "      <th>user_id</th>\n",
       "      <th>order_amount</th>\n",
       "      <th>orders_day_of_week</th>\n",
       "      <th>order_hour_of_day</th>\n",
       "      <th>days_since_prior_order</th>\n",
       "      <th>product_id</th>\n",
       "      <th>add_to_cart_order</th>\n",
       "      <th>reordered</th>\n",
       "      <th>product_name</th>\n",
       "      <th>...</th>\n",
       "      <th>order_frequency_flag</th>\n",
       "      <th>gender</th>\n",
       "      <th>state</th>\n",
       "      <th>age</th>\n",
       "      <th>date_joined</th>\n",
       "      <th>n_dependants</th>\n",
       "      <th>fam_status</th>\n",
       "      <th>income</th>\n",
       "      <th>region</th>\n",
       "      <th>activity_flag</th>\n",
       "    </tr>\n",
       "  </thead>\n",
       "  <tbody>\n",
       "    <tr>\n",
       "      <th>1510</th>\n",
       "      <td>520620</td>\n",
       "      <td>120</td>\n",
       "      <td>1</td>\n",
       "      <td>3</td>\n",
       "      <td>11</td>\n",
       "      <td>7.0</td>\n",
       "      <td>196</td>\n",
       "      <td>2</td>\n",
       "      <td>0</td>\n",
       "      <td>Soda</td>\n",
       "      <td>...</td>\n",
       "      <td>Regular customer.</td>\n",
       "      <td>Female</td>\n",
       "      <td>Kentucky</td>\n",
       "      <td>54</td>\n",
       "      <td>3/2/2017</td>\n",
       "      <td>2</td>\n",
       "      <td>married</td>\n",
       "      <td>99219</td>\n",
       "      <td>South</td>\n",
       "      <td>Low-activity customer</td>\n",
       "    </tr>\n",
       "    <tr>\n",
       "      <th>1511</th>\n",
       "      <td>3273029</td>\n",
       "      <td>120</td>\n",
       "      <td>3</td>\n",
       "      <td>2</td>\n",
       "      <td>8</td>\n",
       "      <td>19.0</td>\n",
       "      <td>196</td>\n",
       "      <td>2</td>\n",
       "      <td>1</td>\n",
       "      <td>Soda</td>\n",
       "      <td>...</td>\n",
       "      <td>Regular customer.</td>\n",
       "      <td>Female</td>\n",
       "      <td>Kentucky</td>\n",
       "      <td>54</td>\n",
       "      <td>3/2/2017</td>\n",
       "      <td>2</td>\n",
       "      <td>married</td>\n",
       "      <td>99219</td>\n",
       "      <td>South</td>\n",
       "      <td>Low-activity customer</td>\n",
       "    </tr>\n",
       "    <tr>\n",
       "      <th>1512</th>\n",
       "      <td>520620</td>\n",
       "      <td>120</td>\n",
       "      <td>1</td>\n",
       "      <td>3</td>\n",
       "      <td>11</td>\n",
       "      <td>7.0</td>\n",
       "      <td>46149</td>\n",
       "      <td>1</td>\n",
       "      <td>0</td>\n",
       "      <td>Zero Calorie Cola</td>\n",
       "      <td>...</td>\n",
       "      <td>Regular customer.</td>\n",
       "      <td>Female</td>\n",
       "      <td>Kentucky</td>\n",
       "      <td>54</td>\n",
       "      <td>3/2/2017</td>\n",
       "      <td>2</td>\n",
       "      <td>married</td>\n",
       "      <td>99219</td>\n",
       "      <td>South</td>\n",
       "      <td>Low-activity customer</td>\n",
       "    </tr>\n",
       "    <tr>\n",
       "      <th>1513</th>\n",
       "      <td>3273029</td>\n",
       "      <td>120</td>\n",
       "      <td>3</td>\n",
       "      <td>2</td>\n",
       "      <td>8</td>\n",
       "      <td>19.0</td>\n",
       "      <td>46149</td>\n",
       "      <td>1</td>\n",
       "      <td>1</td>\n",
       "      <td>Zero Calorie Cola</td>\n",
       "      <td>...</td>\n",
       "      <td>Regular customer.</td>\n",
       "      <td>Female</td>\n",
       "      <td>Kentucky</td>\n",
       "      <td>54</td>\n",
       "      <td>3/2/2017</td>\n",
       "      <td>2</td>\n",
       "      <td>married</td>\n",
       "      <td>99219</td>\n",
       "      <td>South</td>\n",
       "      <td>Low-activity customer</td>\n",
       "    </tr>\n",
       "    <tr>\n",
       "      <th>1514</th>\n",
       "      <td>520620</td>\n",
       "      <td>120</td>\n",
       "      <td>1</td>\n",
       "      <td>3</td>\n",
       "      <td>11</td>\n",
       "      <td>7.0</td>\n",
       "      <td>26348</td>\n",
       "      <td>3</td>\n",
       "      <td>0</td>\n",
       "      <td>Mixed Fruit Fruit Snacks</td>\n",
       "      <td>...</td>\n",
       "      <td>Regular customer.</td>\n",
       "      <td>Female</td>\n",
       "      <td>Kentucky</td>\n",
       "      <td>54</td>\n",
       "      <td>3/2/2017</td>\n",
       "      <td>2</td>\n",
       "      <td>married</td>\n",
       "      <td>99219</td>\n",
       "      <td>South</td>\n",
       "      <td>Low-activity customer</td>\n",
       "    </tr>\n",
       "  </tbody>\n",
       "</table>\n",
       "<p>5 rows × 31 columns</p>\n",
       "</div>"
      ],
      "text/plain": [
       "      order_id  user_id  order_amount  orders_day_of_week  order_hour_of_day  \\\n",
       "1510    520620      120             1                   3                 11   \n",
       "1511   3273029      120             3                   2                  8   \n",
       "1512    520620      120             1                   3                 11   \n",
       "1513   3273029      120             3                   2                  8   \n",
       "1514    520620      120             1                   3                 11   \n",
       "\n",
       "      days_since_prior_order  product_id  add_to_cart_order  reordered  \\\n",
       "1510                     7.0         196                  2          0   \n",
       "1511                    19.0         196                  2          1   \n",
       "1512                     7.0       46149                  1          0   \n",
       "1513                    19.0       46149                  1          1   \n",
       "1514                     7.0       26348                  3          0   \n",
       "\n",
       "                  product_name  ...  order_frequency_flag  gender     state  \\\n",
       "1510                      Soda  ...     Regular customer.  Female  Kentucky   \n",
       "1511                      Soda  ...     Regular customer.  Female  Kentucky   \n",
       "1512         Zero Calorie Cola  ...     Regular customer.  Female  Kentucky   \n",
       "1513         Zero Calorie Cola  ...     Regular customer.  Female  Kentucky   \n",
       "1514  Mixed Fruit Fruit Snacks  ...     Regular customer.  Female  Kentucky   \n",
       "\n",
       "     age date_joined n_dependants  fam_status income  region  \\\n",
       "1510  54    3/2/2017            2     married  99219   South   \n",
       "1511  54    3/2/2017            2     married  99219   South   \n",
       "1512  54    3/2/2017            2     married  99219   South   \n",
       "1513  54    3/2/2017            2     married  99219   South   \n",
       "1514  54    3/2/2017            2     married  99219   South   \n",
       "\n",
       "              activity_flag  \n",
       "1510  Low-activity customer  \n",
       "1511  Low-activity customer  \n",
       "1512  Low-activity customer  \n",
       "1513  Low-activity customer  \n",
       "1514  Low-activity customer  \n",
       "\n",
       "[5 rows x 31 columns]"
      ]
     },
     "execution_count": 21,
     "metadata": {},
     "output_type": "execute_result"
    }
   ],
   "source": [
    "# Check if the process worked\n",
    "low_activity_customer.head()"
   ]
  },
  {
   "cell_type": "code",
   "execution_count": 22,
   "id": "fa8cb679",
   "metadata": {},
   "outputs": [],
   "source": [
    "# Export the unnecessary values\n",
    "low_activity_customer.to_pickle(os.path.join(path, '02 Data', 'Prepared Data', 'low_activity_customers.pkl'))"
   ]
  },
  {
   "cell_type": "code",
   "execution_count": null,
   "id": "6e74a702",
   "metadata": {},
   "outputs": [],
   "source": [
    "# Export the current data \n",
    "df_pii_safe.to_pickle(os.path.join(path, '02 Data', 'Prepared Data', 'ords_prods_update_v1.pkl'))"
   ]
  }
 ],
 "metadata": {
  "kernelspec": {
   "display_name": "Python 3 (ipykernel)",
   "language": "python",
   "name": "python3"
  },
  "language_info": {
   "codemirror_mode": {
    "name": "ipython",
    "version": 3
   },
   "file_extension": ".py",
   "mimetype": "text/x-python",
   "name": "python",
   "nbconvert_exporter": "python",
   "pygments_lexer": "ipython3",
   "version": "3.11.4"
  }
 },
 "nbformat": 4,
 "nbformat_minor": 5
}
