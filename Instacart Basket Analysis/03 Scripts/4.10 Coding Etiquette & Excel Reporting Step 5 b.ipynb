{
 "cells": [
  {
   "cell_type": "markdown",
   "id": "1618b264",
   "metadata": {},
   "source": [
    "# 4.10: Coding Etiquette & Excel Reporting"
   ]
  },
  {
   "cell_type": "markdown",
   "id": "e68be207",
   "metadata": {},
   "source": [
    "## Contents\n",
    "\n",
    "### 01. Importing libaries\n",
    "### 02. Importing data\n",
    "### 03. Create a profiling variable based on age, income, certain goods in the “department_id” column, and number of dependents(Step 5 b) "
   ]
  },
  {
   "cell_type": "markdown",
   "id": "19938000",
   "metadata": {},
   "source": [
    "## 01. Importing libraries"
   ]
  },
  {
   "cell_type": "code",
   "execution_count": 1,
   "id": "9b75e5bf",
   "metadata": {},
   "outputs": [],
   "source": [
    "import pandas as pd\n",
    "import numpy as np\n",
    "import os"
   ]
  },
  {
   "cell_type": "markdown",
   "id": "03e433f1",
   "metadata": {},
   "source": [
    "## 02. Importing data"
   ]
  },
  {
   "cell_type": "code",
   "execution_count": 2,
   "id": "3e98dc0b",
   "metadata": {},
   "outputs": [],
   "source": [
    "path = r'C:\\Users\\Sulo\\Desktop\\Careerfoundry\\11.09.2023 Instacart Basket Analysis'"
   ]
  },
  {
   "cell_type": "code",
   "execution_count": 3,
   "id": "43041014",
   "metadata": {},
   "outputs": [],
   "source": [
    "# Import the pickle file\n",
    "ords_prods_updated = pd.read_pickle(os.path.join(path, '02 Data', 'Prepared Data', 'orders_products_updated_v3.pkl'))"
   ]
  },
  {
   "cell_type": "markdown",
   "id": "16d6eeb5",
   "metadata": {},
   "source": [
    "## 03. Create a profiling variable based on age, income, certain goods in the “department_id” column, and number of dependents(Step 5 b) "
   ]
  },
  {
   "cell_type": "markdown",
   "id": "ca769c09",
   "metadata": {},
   "source": [
    "### Department_ID"
   ]
  },
  {
   "cell_type": "code",
   "execution_count": 4,
   "id": "be6dd537",
   "metadata": {},
   "outputs": [],
   "source": [
    "# load in the departments wrangles csv so I can join them with the department id, so I know what department is which id\n",
    "dep = pd.read_csv(os.path.join(path,'02 Data', 'Prepared Data', 'departments_wrangled.csv'), index_col = False)"
   ]
  },
  {
   "cell_type": "code",
   "execution_count": 5,
   "id": "ecd79074",
   "metadata": {},
   "outputs": [],
   "source": [
    "dep.rename(columns = {'Unnamed: 0' : 'department_id'}, inplace = True)"
   ]
  },
  {
   "cell_type": "code",
   "execution_count": 6,
   "id": "6a663735",
   "metadata": {},
   "outputs": [
    {
     "data": {
      "text/html": [
       "<div>\n",
       "<style scoped>\n",
       "    .dataframe tbody tr th:only-of-type {\n",
       "        vertical-align: middle;\n",
       "    }\n",
       "\n",
       "    .dataframe tbody tr th {\n",
       "        vertical-align: top;\n",
       "    }\n",
       "\n",
       "    .dataframe thead th {\n",
       "        text-align: right;\n",
       "    }\n",
       "</style>\n",
       "<table border=\"1\" class=\"dataframe\">\n",
       "  <thead>\n",
       "    <tr style=\"text-align: right;\">\n",
       "      <th></th>\n",
       "      <th>department_id</th>\n",
       "      <th>department</th>\n",
       "    </tr>\n",
       "  </thead>\n",
       "  <tbody>\n",
       "    <tr>\n",
       "      <th>0</th>\n",
       "      <td>1</td>\n",
       "      <td>frozen</td>\n",
       "    </tr>\n",
       "    <tr>\n",
       "      <th>1</th>\n",
       "      <td>2</td>\n",
       "      <td>other</td>\n",
       "    </tr>\n",
       "    <tr>\n",
       "      <th>2</th>\n",
       "      <td>3</td>\n",
       "      <td>bakery</td>\n",
       "    </tr>\n",
       "    <tr>\n",
       "      <th>3</th>\n",
       "      <td>4</td>\n",
       "      <td>produce</td>\n",
       "    </tr>\n",
       "    <tr>\n",
       "      <th>4</th>\n",
       "      <td>5</td>\n",
       "      <td>alcohol</td>\n",
       "    </tr>\n",
       "  </tbody>\n",
       "</table>\n",
       "</div>"
      ],
      "text/plain": [
       "   department_id department\n",
       "0              1     frozen\n",
       "1              2      other\n",
       "2              3     bakery\n",
       "3              4    produce\n",
       "4              5    alcohol"
      ]
     },
     "execution_count": 6,
     "metadata": {},
     "output_type": "execute_result"
    }
   ],
   "source": [
    "dep.head()"
   ]
  },
  {
   "cell_type": "code",
   "execution_count": null,
   "id": "9e7fe405",
   "metadata": {},
   "outputs": [],
   "source": [
    "ords_prods_updated = ords_prods_updated.merge(dep, on = 'department_id')"
   ]
  },
  {
   "cell_type": "code",
   "execution_count": null,
   "id": "587011b4",
   "metadata": {},
   "outputs": [],
   "source": [
    "ords_prods_updated.shape"
   ]
  },
  {
   "cell_type": "code",
   "execution_count": null,
   "id": "aa6e7f01",
   "metadata": {},
   "outputs": [],
   "source": [
    "ords_prods_updated.head()"
   ]
  },
  {
   "cell_type": "markdown",
   "id": "97d97c51",
   "metadata": {},
   "source": [
    "### Number of dependants profile"
   ]
  },
  {
   "cell_type": "code",
   "execution_count": null,
   "id": "09a13c3f",
   "metadata": {},
   "outputs": [],
   "source": [
    "# Create a dependants variable and the new column 'dependants_profile'\n",
    "ords_prods_updated.loc[ords_prods_updated['n_dependants'] > 0 , 'dependants_profile'] = 'Has dependants'"
   ]
  },
  {
   "cell_type": "code",
   "execution_count": null,
   "id": "d3fd7ba3",
   "metadata": {},
   "outputs": [],
   "source": [
    "# Create a no dependants variable and the new column 'dependants_profile'\n",
    "ords_prods_updated.loc[ords_prods_updated['n_dependants'] == 0 , 'dependants_profile'] = 'Has no dependants'"
   ]
  },
  {
   "cell_type": "code",
   "execution_count": null,
   "id": "3d7e8e39",
   "metadata": {},
   "outputs": [],
   "source": [
    "ords_prods_updated.head()"
   ]
  },
  {
   "cell_type": "code",
   "execution_count": null,
   "id": "23671903",
   "metadata": {},
   "outputs": [],
   "source": [
    "# Export the updated list\n",
    "df_pii_safe.to_pickle(os.path.join(path, '02 Data', 'Prepared Data', 'ords_prods_update_v4.pkl'))"
   ]
  }
 ],
 "metadata": {
  "kernelspec": {
   "display_name": "Python 3 (ipykernel)",
   "language": "python",
   "name": "python3"
  },
  "language_info": {
   "codemirror_mode": {
    "name": "ipython",
    "version": 3
   },
   "file_extension": ".py",
   "mimetype": "text/x-python",
   "name": "python",
   "nbconvert_exporter": "python",
   "pygments_lexer": "ipython3",
   "version": "3.11.4"
  }
 },
 "nbformat": 4,
 "nbformat_minor": 5
}
